{
 "cells": [
  {
   "cell_type": "markdown",
   "id": "ec32ea5b",
   "metadata": {},
   "source": [
    "# tmp\n",
    "this is just a dump for testing"
   ]
  },
  {
   "cell_type": "code",
   "execution_count": 1,
   "id": "a9bd4db3",
   "metadata": {},
   "outputs": [],
   "source": [
    "import os\n",
    "import sys\n",
    "\n",
    "import numpy as np\n",
    "import pandas as pd\n",
    "import matplotlib.pyplot as plt\n",
    "\n",
    "from tqdm import tqdm\n",
    "sys.path.insert(0, '../../icenumerics/')\n",
    "sys.path.insert(0, './auxnumerics/')\n",
    "sys.path.insert(0, './testing/')\n",
    "import icenumerics as ice\n",
    "\n",
    "from parameters import params\n",
    "import auxiliary as aux\n",
    "import montecarlo_colloids as mc\n",
    "import vertices as vrt\n",
    "\n",
    "ureg = ice.ureg\n",
    "\n",
    "%reload_ext autoreload\n",
    "%autoreload 2\n",
    "\n",
    "idx = pd.IndexSlice"
   ]
  },
  {
   "cell_type": "code",
   "execution_count": 2,
   "id": "a6834346",
   "metadata": {},
   "outputs": [],
   "source": [
    "plt.rcParams.update({\n",
    "    \"pgf.texsystem\": \"pdflatex\",\n",
    "    'font.family': 'serif',\n",
    "    'text.usetex': True,\n",
    "    'pgf.rcfonts': False,\n",
    "})"
   ]
  },
  {
   "cell_type": "code",
   "execution_count": null,
   "id": "360c9166",
   "metadata": {},
   "outputs": [],
   "source": [
    "N = 10\n",
    "a = params['lattice_constant']\n",
    "\n",
    "sp = ice.spins()\n",
    "sp.create_lattice('square', [N,N], lattice_constant=a ,border='periodic')\n",
    "\n",
    "particle = ice.particle(radius=params['particle_radius'],\n",
    "                        susceptibility=params['particle_susceptibility'],\n",
    "                        diffusion=params['particle_diffusion'],\n",
    "                        temperature=params['particle_temperature'],\n",
    "                        density=params['particle_density']\n",
    ")\n",
    "\n",
    "trap = ice.trap(trap_sep=params['trap_sep'],\n",
    "                height=params['trap_height'],\n",
    "                stiffness=params['trap_stiffness']\n",
    ")\n",
    "\n",
    "trap2 = ice.trap(trap_sep=0*params['trap_sep'],\n",
    "                height=params['trap_height'],\n",
    "                stiffness=params['trap_stiffness']\n",
    ")\n",
    "\n",
    "\n",
    "GSTRJ = pd.read_csv(f'../data/states/ice/{N}.csv',index_col='id')\n",
    "\n",
    "# make the structure of the colloid\n",
    "centers = [row[['x','y','z']].to_list() * ureg.um for _,row in GSTRJ.iterrows()]\n",
    "directions = [row[['dx','dy','dz']].to_list() * ureg.um for _,row in GSTRJ.iterrows()]\n",
    "arrangement = {\"centers\": centers,\n",
    "              \"directions\": directions\n",
    "              }\n",
    "\n",
    "# select one particle to fix\n",
    "idx = 42\n",
    "traps = [trap2 if (i==idx) else trap for i in range(len(centers)) ]\n",
    "\n",
    "col = ice.colloidal_ice(arrangement, particle, traps,\n",
    "                       height_spread=0,\n",
    "                       susceptibility_spread=0.1,\n",
    "                       periodic=True)\n",
    "\n",
    "particle_radius = params['particle_radius']\n",
    "col.region = np.array([[0,0,-3*(particle_radius/a/N).magnitude],[1,1,3*(particle_radius/a/N).magnitude]])*N*a\n",
    "\n",
    "# move the particle a tiny bit \n",
    "col[idx].colloid += col[idx].direction * params['lattice_constant']/8\n",
    "col[idx].center += col[idx].direction * params['trap_sep']/2\n",
    "\n",
    "col.display()\n"
   ]
  },
  {
   "cell_type": "code",
   "execution_count": null,
   "id": "baa2a4ad",
   "metadata": {},
   "outputs": [],
   "source": [
    "col[idx].colloid"
   ]
  },
  {
   "cell_type": "code",
   "execution_count": null,
   "id": "657ee7c4",
   "metadata": {},
   "outputs": [],
   "source": [
    "col.to_ctrj()"
   ]
  },
  {
   "cell_type": "code",
   "execution_count": null,
   "id": "b69eb73a",
   "metadata": {},
   "outputs": [],
   "source": [
    "col[idx].colloid += col[idx].direction * params['lattice_constant']/4\n"
   ]
  },
  {
   "cell_type": "code",
   "execution_count": null,
   "id": "a5a01b51",
   "metadata": {},
   "outputs": [],
   "source": [
    "col[idx].colloid "
   ]
  },
  {
   "cell_type": "code",
   "execution_count": null,
   "id": "5b43629a",
   "metadata": {},
   "outputs": [],
   "source": [
    "\n",
    "col = ice.colloidal_ice(sp, particle, trap,\n",
    "                        height_spread=params['height_spread'],\n",
    "                        susceptibility_spread=params['susceptibility_spread'],\n",
    "                        periodic=params['isperiodic']\n",
    ")\n",
    "\n",
    "col.randomize()\n",
    "col.region = np.array([[0,0,-3*(params[\"particle_radius\"]/a/N).magnitude],[1,1,3*(params[\"particle_radius\"]/a/N).magnitude]])*N*a\n",
    "\n",
    "col.to_ctrj().to_csv('array.csv')"
   ]
  },
  {
   "cell_type": "code",
   "execution_count": null,
   "id": "1c569a35",
   "metadata": {
    "scrolled": false
   },
   "outputs": [],
   "source": [
    "fig, ax = plt.subplots(figsize=(5,5))\n",
    "\n",
    "ice.draw_frame(trj, frame_no=0,\n",
    "               region=[0,300,0,300],\n",
    "               radius=params[\"particle_radius\"].magnitude,\n",
    "               cutoff=params[\"trap_sep\"].magnitude/2,\n",
    "               particle_color='#75b7ea',\n",
    "               trap_color='gray',\n",
    "               ax = ax)\n",
    "\n",
    "plt.show()"
   ]
  },
  {
   "cell_type": "markdown",
   "id": "d0928abb",
   "metadata": {},
   "source": [
    "## Testing for staircase"
   ]
  },
  {
   "cell_type": "code",
   "execution_count": null,
   "id": "45b84364",
   "metadata": {},
   "outputs": [],
   "source": [
    "def lmp2np(string):\n",
    "    string = string.replace('sin','np.sin')\n",
    "    string = string.replace('cos','np.cos')\n",
    "    string = string.replace('PI','np.pi')\n",
    "    string = string.replace('e6','')\n",
    "    return string"
   ]
  },
  {
   "cell_type": "code",
   "execution_count": null,
   "id": "1c2f9c09",
   "metadata": {},
   "outputs": [],
   "source": [
    "omega = np.pi/2/300\n",
    "\n",
    "# time taken to rotate by one degree\n",
    "t_deg = (5*ureg.deg).to(ureg.rad).magnitude / omega\n",
    "# time for evolution\n",
    "t_evo = 100 \n",
    "N = np.round(np.pi/2/omega/t_deg)\n",
    "total_time = N*(t_deg+t_evo)\n",
    "time = np.arange(0,total_time,0.001)\n",
    "print(f'Time for 1 deg: {t_deg:.2f}')\n",
    "print(f'Number of slices: {N:.2f}')\n",
    "print(f'Total time: {total_time:.2f}')"
   ]
  },
  {
   "cell_type": "code",
   "execution_count": null,
   "id": "0a0938ac",
   "metadata": {},
   "outputs": [],
   "source": [
    "current_time = 0\n",
    "fieldx = []\n",
    "for n in range(0,int(N)):\n",
    "    fieldx.append(f'cos({omega}*(time-{current_time-n*t_deg}))*(time>{current_time})*(time<={current_time+t_deg})')\n",
    "        \n",
    "    current_time += t_deg\n",
    "    fieldx.append(f'cos(omega*{(n+1)*t_deg})*(time>{current_time})*(time<={current_time+t_evo})')\n",
    "    current_time += t_evo"
   ]
  },
  {
   "cell_type": "code",
   "execution_count": null,
   "id": "28108df9",
   "metadata": {},
   "outputs": [],
   "source": [
    "x = eval(lmp2np('+'.join(fieldx)))"
   ]
  },
  {
   "cell_type": "code",
   "execution_count": null,
   "id": "26634f5c",
   "metadata": {},
   "outputs": [],
   "source": [
    "fig, ax = plt.subplots(figsize=(10,5))\n",
    "ax.plot(time,x)\n",
    "ax.grid()"
   ]
  },
  {
   "cell_type": "markdown",
   "id": "8f8d797d",
   "metadata": {},
   "source": [
    "## Trying to make animations"
   ]
  },
  {
   "cell_type": "code",
   "execution_count": 5,
   "id": "c3ce6022",
   "metadata": {},
   "outputs": [],
   "source": [
    "rootpath = '/home/frieren/BIG/reentrancy/test11/10/3/20mT/'\n",
    "trj = ice.trajectory(os.path.join(rootpath,'xtrj1.csv'))\n",
    "trj.load()\n",
    "v = trj.get_vertices(os.path.join(rootpath,'vertices1.csv'))"
   ]
  },
  {
   "cell_type": "code",
   "execution_count": 7,
   "id": "b6cffaf7",
   "metadata": {},
   "outputs": [],
   "source": [
    "if not os.path.isdir(savepath):\n",
    "    os.mkdir(savepath)\n",
    "\n",
    "trj.paint_frame(v,params,savepath,\n",
    "                frame=50,\n",
    "                set_title=f'$t = {50/20:.2f} s$',\n",
    "                region=[0,300,0,300],\n",
    "               )"
   ]
  },
  {
   "cell_type": "code",
   "execution_count": 11,
   "id": "d3d1a31a",
   "metadata": {},
   "outputs": [
    {
     "name": "stdout",
     "output_type": "stream",
     "text": [
      "wip\n"
     ]
    },
    {
     "name": "stderr",
     "output_type": "stream",
     "text": [
      "ffmpeg version 6.1.1-3ubuntu5 Copyright (c) 2000-2023 the FFmpeg developers\n",
      "  built with gcc 13 (Ubuntu 13.2.0-23ubuntu3)\n",
      "  configuration: --prefix=/usr --extra-version=3ubuntu5 --toolchain=hardened --libdir=/usr/lib/x86_64-linux-gnu --incdir=/usr/include/x86_64-linux-gnu --arch=amd64 --enable-gpl --disable-stripping --disable-omx --enable-gnutls --enable-libaom --enable-libass --enable-libbs2b --enable-libcaca --enable-libcdio --enable-libcodec2 --enable-libdav1d --enable-libflite --enable-libfontconfig --enable-libfreetype --enable-libfribidi --enable-libglslang --enable-libgme --enable-libgsm --enable-libharfbuzz --enable-libmp3lame --enable-libmysofa --enable-libopenjpeg --enable-libopenmpt --enable-libopus --enable-librubberband --enable-libshine --enable-libsnappy --enable-libsoxr --enable-libspeex --enable-libtheora --enable-libtwolame --enable-libvidstab --enable-libvorbis --enable-libvpx --enable-libwebp --enable-libx265 --enable-libxml2 --enable-libxvid --enable-libzimg --enable-openal --enable-opencl --enable-opengl --disable-sndio --enable-libvpl --disable-libmfx --enable-libdc1394 --enable-libdrm --enable-libiec61883 --enable-chromaprint --enable-frei0r --enable-ladspa --enable-libbluray --enable-libjack --enable-libpulse --enable-librabbitmq --enable-librist --enable-libsrt --enable-libssh --enable-libsvtav1 --enable-libx264 --enable-libzmq --enable-libzvbi --enable-lv2 --enable-sdl2 --enable-libplacebo --enable-librav1e --enable-pocketsphinx --enable-librsvg --enable-libjxl --enable-shared\n",
      "  libavutil      58. 29.100 / 58. 29.100\n",
      "  libavcodec     60. 31.102 / 60. 31.102\n",
      "  libavformat    60. 16.100 / 60. 16.100\n",
      "  libavdevice    60.  3.100 / 60.  3.100\n",
      "  libavfilter     9. 12.100 /  9. 12.100\n",
      "  libswscale      7.  5.100 /  7.  5.100\n",
      "  libswresample   4. 12.100 /  4. 12.100\n",
      "  libpostproc    57.  3.100 / 57.  3.100\n",
      "Input #0, image2, from '/home/frieren/BIG/reentrancy/test11/10/3/20mT/frames/%d.png':\n",
      "  Duration: 00:00:04.00, start: 0.000000, bitrate: N/A\n",
      "  Stream #0:0: Video: png, rgba(pc, gbr/unknown/unknown), 790x822 [SAR 3937:3937 DAR 395:411], 15 fps, 15 tbr, 15 tbn\n",
      "Stream mapping:\n",
      "  Stream #0:0 -> #0:0 (png (native) -> h264 (libx264))\n",
      "Press [q] to stop, [?] for help\n",
      "[libx264 @ 0x5d3985186000] using SAR=1/1\n",
      "[libx264 @ 0x5d3985186000] using cpu capabilities: MMX2 SSE2Fast SSSE3 SSE4.2 AVX FMA3 BMI2 AVX2 AVX512\n",
      "[libx264 @ 0x5d3985186000] profile High, level 3.1, 4:2:0, 8-bit\n",
      "[libx264 @ 0x5d3985186000] 264 - core 164 r3108 31e19f9 - H.264/MPEG-4 AVC codec - Copyleft 2003-2023 - http://www.videolan.org/x264.html - options: cabac=1 ref=3 deblock=1:0:0 analyse=0x3:0x113 me=hex subme=7 psy=1 psy_rd=1.00:0.00 mixed_ref=1 me_range=16 chroma_me=1 trellis=1 8x8dct=1 cqm=0 deadzone=21,11 fast_pskip=1 chroma_qp_offset=-2 threads=24 lookahead_threads=4 sliced_threads=0 nr=0 decimate=1 interlaced=0 bluray_compat=0 constrained_intra=0 bframes=3 b_pyramid=2 b_adapt=1 b_bias=0 direct=1 weightb=1 open_gop=0 weightp=2 keyint=250 keyint_min=15 scenecut=40 intra_refresh=0 rc_lookahead=40 rc=crf mbtree=1 crf=23.0 qcomp=0.60 qpmin=0 qpmax=69 qpstep=4 ip_ratio=1.40 aq=1:1.00\n",
      "Output #0, mp4, to '/home/frieren/BIG/reentrancy/test11/10/3/20mT/frames/output.mp4':\n",
      "  Metadata:\n",
      "    encoder         : Lavf60.16.100\n",
      "  Stream #0:0: Video: h264 (avc1 / 0x31637661), yuv420p(tv, progressive), 790x822 [SAR 1:1 DAR 395:411], q=2-31, 15 fps, 15360 tbn\n",
      "    Metadata:\n",
      "      encoder         : Lavc60.31.102 libx264\n",
      "    Side data:\n",
      "      cpb: bitrate max/min/avg: 0/0/0 buffer size: 0 vbv_delay: N/A\n",
      "[out#0/mp4 @ 0x5d3985184880] video:462kB audio:0kB subtitle:0kB other streams:0kB global headers:0kB muxing overhead: 0.336446%\n",
      "frame=   60 fps=0.0 q=-1.0 Lsize=     463kB time=00:00:03.80 bitrate= 998.3kbits/s speed=15.3x    \n",
      "[libx264 @ 0x5d3985186000] frame I:1     Avg QP:19.46  size: 86675\n",
      "[libx264 @ 0x5d3985186000] frame P:15    Avg QP:24.34  size: 18075\n",
      "[libx264 @ 0x5d3985186000] frame B:44    Avg QP:29.86  size:  2593\n",
      "[libx264 @ 0x5d3985186000] consecutive B-frames:  1.7%  0.0%  5.0% 93.3%\n",
      "[libx264 @ 0x5d3985186000] mb I  I16..4: 18.4% 13.4% 68.2%\n",
      "[libx264 @ 0x5d3985186000] mb P  I16..4:  0.5%  1.3%  1.7%  P16..4: 16.5% 13.2% 10.2%  0.0%  0.0%    skip:56.6%\n",
      "[libx264 @ 0x5d3985186000] mb B  I16..4:  0.1%  1.2%  0.1%  B16..8: 24.0%  7.0%  1.4%  direct: 1.7%  skip:64.5%  L0:43.9% L1:41.1% BI:15.0%\n",
      "[libx264 @ 0x5d3985186000] 8x8 transform intra:40.1% inter:20.0%\n",
      "[libx264 @ 0x5d3985186000] coded y,uvDC,uvAC intra: 28.0% 32.8% 30.5% inter: 5.0% 3.4% 2.2%\n",
      "[libx264 @ 0x5d3985186000] i16 v,h,dc,p: 55% 32% 12%  0%\n",
      "[libx264 @ 0x5d3985186000] i8 v,h,dc,ddl,ddr,vr,hd,vl,hu: 17%  5% 77%  0%  0%  0%  0%  0%  0%\n",
      "[libx264 @ 0x5d3985186000] i4 v,h,dc,ddl,ddr,vr,hd,vl,hu: 41% 21% 14%  4%  4%  4%  4%  4%  4%\n",
      "[libx264 @ 0x5d3985186000] i8c dc,h,v,p: 57% 22% 18%  3%\n",
      "[libx264 @ 0x5d3985186000] Weighted P-Frames: Y:0.0% UV:0.0%\n",
      "[libx264 @ 0x5d3985186000] ref P L0: 71.0%  5.3% 13.5% 10.1%\n",
      "[libx264 @ 0x5d3985186000] ref B L0: 78.2% 16.3%  5.6%\n",
      "[libx264 @ 0x5d3985186000] ref B L1: 91.1%  8.9%\n",
      "[libx264 @ 0x5d3985186000] kb/s:943.79\n"
     ]
    }
   ],
   "source": [
    "savepath = os.path.join(rootpath,'frames')\n",
    "frames = trj.trj.index.get_level_values('frame').unique().to_numpy()\n",
    "time = frames/params['framespersec'].magnitude\n",
    "titles = [f'$t = {t:.2f} s$' for t in time]\n",
    "ice.export_frames(trj,v,params,savepath,frames,titles,workers=5)"
   ]
  }
 ],
 "metadata": {
  "kernelspec": {
   "display_name": "Python 3 (ipykernel)",
   "language": "python",
   "name": "python3"
  },
  "language_info": {
   "codemirror_mode": {
    "name": "ipython",
    "version": 3
   },
   "file_extension": ".py",
   "mimetype": "text/x-python",
   "name": "python",
   "nbconvert_exporter": "python",
   "pygments_lexer": "ipython3",
   "version": "3.12.3"
  },
  "varInspector": {
   "cols": {
    "lenName": 16,
    "lenType": 16,
    "lenVar": 40
   },
   "kernels_config": {
    "python": {
     "delete_cmd_postfix": "",
     "delete_cmd_prefix": "del ",
     "library": "var_list.py",
     "varRefreshCmd": "print(var_dic_list())"
    },
    "r": {
     "delete_cmd_postfix": ") ",
     "delete_cmd_prefix": "rm(",
     "library": "var_list.r",
     "varRefreshCmd": "cat(var_dic_list()) "
    }
   },
   "types_to_exclude": [
    "module",
    "function",
    "builtin_function_or_method",
    "instance",
    "_Feature"
   ],
   "window_display": false
  }
 },
 "nbformat": 4,
 "nbformat_minor": 5
}
