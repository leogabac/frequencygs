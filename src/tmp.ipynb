{
 "cells": [
  {
   "cell_type": "markdown",
   "id": "381f088c",
   "metadata": {},
   "source": [
    "# tmp\n",
    "this is just a dump for testing"
   ]
  },
  {
   "cell_type": "code",
   "execution_count": 1,
   "id": "ddee79cd",
   "metadata": {},
   "outputs": [],
   "source": [
    "import os\n",
    "import sys\n",
    "\n",
    "import numpy as np\n",
    "import pandas as pd\n",
    "import matplotlib.pyplot as plt\n",
    "\n",
    "from tqdm import tqdm\n",
    "sys.path.insert(0, '../../icenumerics/')\n",
    "sys.path.insert(0, './auxnumerics/')\n",
    "sys.path.insert(0, './testing/')\n",
    "import icenumerics as ice\n",
    "\n",
    "from parameters import params\n",
    "import auxiliary as aux\n",
    "import montecarlo_colloids as mc\n",
    "import vertices as vrt\n",
    "\n",
    "ureg = ice.ureg\n",
    "\n",
    "%reload_ext autoreload\n",
    "%autoreload 2\n",
    "\n",
    "idx = pd.IndexSlice"
   ]
  },
  {
   "cell_type": "code",
   "execution_count": 2,
   "id": "431286ed",
   "metadata": {},
   "outputs": [],
   "source": [
    "plt.rcParams.update({\n",
    "    \"pgf.texsystem\": \"pdflatex\",\n",
    "    'font.family': 'serif',\n",
    "    'text.usetex': True,\n",
    "    'pgf.rcfonts': False,\n",
    "})"
   ]
  },
  {
   "cell_type": "code",
   "execution_count": null,
   "id": "ab1c8fc0",
   "metadata": {},
   "outputs": [],
   "source": [
    "N = 10\n",
    "a = params['lattice_constant']\n",
    "\n",
    "sp = ice.spins()\n",
    "sp.create_lattice('square', [N,N], lattice_constant=a ,border='periodic')\n",
    "\n",
    "particle = ice.particle(radius=params['particle_radius'],\n",
    "                        susceptibility=params['particle_susceptibility'],\n",
    "                        diffusion=params['particle_diffusion'],\n",
    "                        temperature=params['particle_temperature'],\n",
    "                        density=params['particle_density']\n",
    ")\n",
    "\n",
    "trap = ice.trap(trap_sep=params['trap_sep'],\n",
    "                height=params['trap_height'],\n",
    "                stiffness=params['trap_stiffness']\n",
    ")\n",
    "\n",
    "trap2 = ice.trap(trap_sep=0*params['trap_sep'],\n",
    "                height=params['trap_height'],\n",
    "                stiffness=params['trap_stiffness']\n",
    ")\n",
    "\n",
    "\n",
    "GSTRJ = pd.read_csv(f'../data/states/ice/{N}.csv',index_col='id')\n",
    "\n",
    "# make the structure of the colloid\n",
    "centers = [row[['x','y','z']].to_list() * ureg.um for _,row in GSTRJ.iterrows()]\n",
    "directions = [row[['dx','dy','dz']].to_list() * ureg.um for _,row in GSTRJ.iterrows()]\n",
    "arrangement = {\"centers\": centers,\n",
    "              \"directions\": directions\n",
    "              }\n",
    "\n",
    "# select one particle to fix\n",
    "idx = 42\n",
    "traps = [trap2 if (i==idx) else trap for i in range(len(centers)) ]\n",
    "\n",
    "col = ice.colloidal_ice(arrangement, particle, traps,\n",
    "                       height_spread=0,\n",
    "                       susceptibility_spread=0.1,\n",
    "                       periodic=True)\n",
    "\n",
    "particle_radius = params['particle_radius']\n",
    "col.region = np.array([[0,0,-3*(particle_radius/a/N).magnitude],[1,1,3*(particle_radius/a/N).magnitude]])*N*a\n",
    "\n",
    "# move the particle a tiny bit \n",
    "col[idx].colloid += col[idx].direction * params['lattice_constant']/8\n",
    "col[idx].center += col[idx].direction * params['trap_sep']/2\n",
    "\n",
    "col.display()\n"
   ]
  },
  {
   "cell_type": "code",
   "execution_count": null,
   "id": "677da071",
   "metadata": {},
   "outputs": [],
   "source": [
    "col[idx].colloid"
   ]
  },
  {
   "cell_type": "code",
   "execution_count": null,
   "id": "e7506e97",
   "metadata": {},
   "outputs": [],
   "source": [
    "col.to_ctrj()"
   ]
  },
  {
   "cell_type": "code",
   "execution_count": null,
   "id": "160d2ea5",
   "metadata": {},
   "outputs": [],
   "source": [
    "col[idx].colloid += col[idx].direction * params['lattice_constant']/4\n"
   ]
  },
  {
   "cell_type": "code",
   "execution_count": null,
   "id": "18e4f366",
   "metadata": {},
   "outputs": [],
   "source": [
    "col[idx].colloid "
   ]
  },
  {
   "cell_type": "code",
   "execution_count": null,
   "id": "7377128a",
   "metadata": {},
   "outputs": [],
   "source": [
    "\n",
    "col = ice.colloidal_ice(sp, particle, trap,\n",
    "                        height_spread=params['height_spread'],\n",
    "                        susceptibility_spread=params['susceptibility_spread'],\n",
    "                        periodic=params['isperiodic']\n",
    ")\n",
    "\n",
    "col.randomize()\n",
    "col.region = np.array([[0,0,-3*(params[\"particle_radius\"]/a/N).magnitude],[1,1,3*(params[\"particle_radius\"]/a/N).magnitude]])*N*a\n",
    "\n",
    "col.to_ctrj().to_csv('array.csv')"
   ]
  },
  {
   "cell_type": "code",
   "execution_count": null,
   "id": "39fc8f13",
   "metadata": {
    "scrolled": false
   },
   "outputs": [],
   "source": [
    "fig, ax = plt.subplots(figsize=(5,5))\n",
    "\n",
    "ice.draw_frame(trj, frame_no=0,\n",
    "               region=[0,300,0,300],\n",
    "               radius=params[\"particle_radius\"].magnitude,\n",
    "               cutoff=params[\"trap_sep\"].magnitude/2,\n",
    "               particle_color='#75b7ea',\n",
    "               trap_color='gray',\n",
    "               ax = ax)\n",
    "\n",
    "plt.show()"
   ]
  },
  {
   "cell_type": "markdown",
   "id": "d185e678",
   "metadata": {},
   "source": [
    "## Testing for staircase"
   ]
  },
  {
   "cell_type": "code",
   "execution_count": null,
   "id": "3aa565f6",
   "metadata": {},
   "outputs": [],
   "source": [
    "def lmp2np(string):\n",
    "    string = string.replace('sin','np.sin')\n",
    "    string = string.replace('cos','np.cos')\n",
    "    string = string.replace('PI','np.pi')\n",
    "    string = string.replace('e6','')\n",
    "    return string"
   ]
  },
  {
   "cell_type": "code",
   "execution_count": null,
   "id": "8c716056",
   "metadata": {},
   "outputs": [],
   "source": [
    "omega = np.pi/2/300\n",
    "\n",
    "# time taken to rotate by one degree\n",
    "t_deg = (5*ureg.deg).to(ureg.rad).magnitude / omega\n",
    "# time for evolution\n",
    "t_evo = 100 \n",
    "N = np.round(np.pi/2/omega/t_deg)\n",
    "total_time = N*(t_deg+t_evo)\n",
    "time = np.arange(0,total_time,0.001)\n",
    "print(f'Time for 1 deg: {t_deg:.2f}')\n",
    "print(f'Number of slices: {N:.2f}')\n",
    "print(f'Total time: {total_time:.2f}')"
   ]
  },
  {
   "cell_type": "code",
   "execution_count": null,
   "id": "fd61b1f0",
   "metadata": {},
   "outputs": [],
   "source": [
    "current_time = 0\n",
    "fieldx = []\n",
    "for n in range(0,int(N)):\n",
    "    fieldx.append(f'cos({omega}*(time-{current_time-n*t_deg}))*(time>{current_time})*(time<={current_time+t_deg})')\n",
    "        \n",
    "    current_time += t_deg\n",
    "    fieldx.append(f'cos(omega*{(n+1)*t_deg})*(time>{current_time})*(time<={current_time+t_evo})')\n",
    "    current_time += t_evo"
   ]
  },
  {
   "cell_type": "code",
   "execution_count": null,
   "id": "fe9eb4fe",
   "metadata": {},
   "outputs": [],
   "source": [
    "x = eval(lmp2np('+'.join(fieldx)))"
   ]
  },
  {
   "cell_type": "code",
   "execution_count": null,
   "id": "e47abf9e",
   "metadata": {},
   "outputs": [],
   "source": [
    "fig, ax = plt.subplots(figsize=(10,5))\n",
    "ax.plot(time,x)\n",
    "ax.grid()"
   ]
  },
  {
   "cell_type": "markdown",
   "id": "e30c5026",
   "metadata": {},
   "source": [
    "## Trying to make animations"
   ]
  },
  {
   "cell_type": "code",
   "execution_count": 5,
   "id": "44543da8",
   "metadata": {},
   "outputs": [],
   "source": [
    "rootpath = '/home/frieren/BIG/reentrancy/test11/10/3/20mT/'\n",
    "trj = ice.trajectory(os.path.join(rootpath,'xtrj1.csv'))\n",
    "trj.load()\n",
    "v = trj.get_vertices(os.path.join(rootpath,'vertices1.csv'))"
   ]
  },
  {
   "cell_type": "code",
   "execution_count": 7,
   "id": "124dcba3",
   "metadata": {},
   "outputs": [],
   "source": [
    "if not os.path.isdir(savepath):\n",
    "    os.mkdir(savepath)\n",
    "\n",
    "trj.paint_frame(v,params,savepath,\n",
    "                frame=50,\n",
    "                set_title=f'$t = {50/20:.2f} s$',\n",
    "                region=[0,300,0,300],\n",
    "               )"
   ]
  },
  {
   "cell_type": "code",
   "execution_count": 4,
   "id": "a4099872",
   "metadata": {},
   "outputs": [
    {
     "ename": "NameError",
     "evalue": "name 'datapath' is not defined",
     "output_type": "error",
     "traceback": [
      "\u001b[0;31m---------------------------------------------------------------------------\u001b[0m",
      "\u001b[0;31mNameError\u001b[0m                                 Traceback (most recent call last)",
      "Cell \u001b[0;32mIn[4], line 1\u001b[0m\n\u001b[0;32m----> 1\u001b[0m savepath \u001b[38;5;241m=\u001b[39m os\u001b[38;5;241m.\u001b[39mpath\u001b[38;5;241m.\u001b[39mjoin(\u001b[43mdatapath\u001b[49m,\u001b[38;5;124m'\u001b[39m\u001b[38;5;124mframes\u001b[39m\u001b[38;5;124m'\u001b[39m)\n\u001b[1;32m      2\u001b[0m frames \u001b[38;5;241m=\u001b[39m trj\u001b[38;5;241m.\u001b[39mtrj\u001b[38;5;241m.\u001b[39mindex\u001b[38;5;241m.\u001b[39mget_level_values(\u001b[38;5;124m'\u001b[39m\u001b[38;5;124mframe\u001b[39m\u001b[38;5;124m'\u001b[39m)\u001b[38;5;241m.\u001b[39munique()\u001b[38;5;241m.\u001b[39mto_numpy()\n\u001b[1;32m      3\u001b[0m time \u001b[38;5;241m=\u001b[39m frames\u001b[38;5;241m/\u001b[39mparams[\u001b[38;5;124m'\u001b[39m\u001b[38;5;124mframespersec\u001b[39m\u001b[38;5;124m'\u001b[39m]\u001b[38;5;241m.\u001b[39mmagnitude\n",
      "\u001b[0;31mNameError\u001b[0m: name 'datapath' is not defined"
     ]
    }
   ],
   "source": [
    "savepath = os.path.join(rootpath,'frames')\n",
    "frames = trj.trj.index.get_level_values('frame').unique().to_numpy()\n",
    "time = frames/params['framespersec'].magnitude\n",
    "titles = [f'$t = {t:.2f} s$' for t in time]"
   ]
  },
  {
   "cell_type": "code",
   "execution_count": null,
   "id": "df94ee9f",
   "metadata": {},
   "outputs": [],
   "source": [
    "\n",
    "ice.export_frames(trj,v,params,savepath,frames,titles,workers=5)"
   ]
  }
 ],
 "metadata": {
  "kernelspec": {
   "display_name": "Python 3 (ipykernel)",
   "language": "python",
   "name": "python3"
  },
  "language_info": {
   "codemirror_mode": {
    "name": "ipython",
    "version": 3
   },
   "file_extension": ".py",
   "mimetype": "text/x-python",
   "name": "python",
   "nbconvert_exporter": "python",
   "pygments_lexer": "ipython3",
   "version": "3.12.3"
  },
  "varInspector": {
   "cols": {
    "lenName": 16,
    "lenType": 16,
    "lenVar": 40
   },
   "kernels_config": {
    "python": {
     "delete_cmd_postfix": "",
     "delete_cmd_prefix": "del ",
     "library": "var_list.py",
     "varRefreshCmd": "print(var_dic_list())"
    },
    "r": {
     "delete_cmd_postfix": ") ",
     "delete_cmd_prefix": "rm(",
     "library": "var_list.r",
     "varRefreshCmd": "cat(var_dic_list()) "
    }
   },
   "types_to_exclude": [
    "module",
    "function",
    "builtin_function_or_method",
    "instance",
    "_Feature"
   ],
   "window_display": false
  }
 },
 "nbformat": 4,
 "nbformat_minor": 5
}
