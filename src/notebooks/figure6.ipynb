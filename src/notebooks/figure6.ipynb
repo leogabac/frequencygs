{
 "cells": [
  {
   "cell_type": "markdown",
   "id": "01291bbb",
   "metadata": {},
   "source": [
    "# Forces"
   ]
  },
  {
   "cell_type": "code",
   "execution_count": 1,
   "id": "15a7de8d",
   "metadata": {},
   "outputs": [],
   "source": [
    "import os\n",
    "import sys\n",
    "\n",
    "import numpy as np\n",
    "import pandas as pd\n",
    "import matplotlib.pyplot as plt\n",
    "\n",
    "from tqdm import tqdm\n",
    "sys.path.insert(0, '../../../icenumerics/')\n",
    "sys.path.insert(0, './../auxnumerics/')\n",
    "sys.path.insert(0, '../')\n",
    "import icenumerics as ice\n",
    "\n",
    "\n",
    "from parameters import params\n",
    "import auxiliary as aux\n",
    "import montecarlo_colloids as mc\n",
    "import vertices as vrt\n",
    "\n",
    "ureg = ice.ureg\n",
    "\n",
    "%reload_ext autoreload\n",
    "%autoreload 2\n",
    "\n",
    "idx = pd.IndexSlice"
   ]
  },
  {
   "cell_type": "code",
   "execution_count": 2,
   "id": "dabba556",
   "metadata": {},
   "outputs": [],
   "source": [
    "plt.rcParams.update({\n",
    "    \"pgf.texsystem\": \"pdflatex\",\n",
    "    'font.family': 'serif',\n",
    "    'text.usetex': True,\n",
    "    'pgf.rcfonts': False,\n",
    "    'xtick.labelsize':11,\n",
    "    'ytick.labelsize':11,\n",
    "    'axes.labelsize':11,\n",
    "})"
   ]
  },
  {
   "cell_type": "code",
   "execution_count": 3,
   "id": "0c58aa50",
   "metadata": {},
   "outputs": [],
   "source": [
    "DRIVE = '/home/frieren/BIG/'\n",
    "DRIVE = '/mnt/BIG/'\n",
    "PROJECT = 'reentrancy/test11'\n",
    "SIZE = 10\n",
    "DATA_PATH = os.path.join(DRIVE,PROJECT,str(SIZE))"
   ]
  },
  {
   "cell_type": "code",
   "execution_count": 4,
   "id": "acf8a36c",
   "metadata": {},
   "outputs": [],
   "source": [
    "data = pd.read_csv(os.path.join(DATA_PATH,'kappa_all.csv'))\n",
    "data.t = np.round(data.t,3)\n",
    "data.kappa = np.abs(data.kappa)\n",
    "# get the mapping omega : max_time\n",
    "maxt = {tt:dfw.t.max() for tt,dfw in data.groupby('total_time') }\n",
    "# get the last frames\n",
    "data_lastframes = pd.concat([data.query(f'total_time=={tt} & t=={tmax}') for tt,tmax in maxt.items()],axis=0)\n",
    "# average across realizations\n",
    "averaged = data_lastframes.groupby(['total_time','field','t'])['kappa'].mean().to_frame().reset_index()"
   ]
  },
  {
   "cell_type": "code",
   "execution_count": 5,
   "id": "db03ecd0",
   "metadata": {},
   "outputs": [],
   "source": [
    "averaged['omega'] = np.round(np.pi/2/averaged['total_time'],4)\n",
    "\n",
    "omegas = averaged.omega.unique()\n",
    "fields = averaged.field.unique()\n",
    "\n",
    "W, B = np.meshgrid(omegas,fields)"
   ]
  },
  {
   "cell_type": "code",
   "execution_count": 6,
   "id": "c1c3309a",
   "metadata": {},
   "outputs": [],
   "source": [
    "rows,cols = W.shape\n",
    "\n",
    "K = np.zeros(W.shape)\n",
    "for i in range(rows):\n",
    "    for j in range(cols):\n",
    "        K[i,j] =  averaged.query(f'omega=={W[i,j]} & field=={B[i,j]}')['kappa'].to_numpy()[0]\n",
    "\n",
    "K = K /4/params['size']**2"
   ]
  },
  {
   "cell_type": "code",
   "execution_count": null,
   "id": "896f6074",
   "metadata": {},
   "outputs": [],
   "source": [
    "low = 0.3\n",
    "high = 0.99\n",
    "\n",
    "K[K<=low] = 0\n",
    "K[(K>low)*(K<=high)] = 0.5\n",
    "K[K>high] = 1"
   ]
  },
  {
   "cell_type": "code",
   "execution_count": 12,
   "id": "8cdbd2a9",
   "metadata": {},
   "outputs": [
    {
     "data": {
      "image/png": "[encoded data removed]",
      "text/plain": [
       "<Figure size 1056x900 with 1 Axes>"
      ]
     },
     "metadata": {},
     "output_type": "display_data"
    }
   ],
   "source": [
    "COL=246/72\n",
    "OFFSET=0.11\n",
    "fig, ax = plt.subplots(figsize=(3.41+0.11, 3), dpi=300)\n",
    "\n",
    "norm = plt.Normalize(0,1)\n",
    "cmap = plt.get_cmap('viridis')\n",
    "\n",
    "c = ax.pcolormesh(W, B, K, norm=norm, cmap=cmap, rasterized=True)\n",
    "ax.set_xlabel('$\\\\omega$ [Hz]')\n",
    "ax.set_ylabel('$B$ [mT]')\n",
    "\n",
    "\n",
    "# ==========================================================================================================\n",
    "# COLORBAR\n",
    "# ==========================================================================================================\n",
    "\n",
    "#fig.subplots_adjust(bottom=0.25)\n",
    "#fig.subplots_adjust(left=0.2)\n",
    "\n",
    "#cbar_ax = fig.add_axes([0.2, 0.05, 0.7, 0.01])  # [left, bottom, width, height]\n",
    "#sm = plt.cm.ScalarMappable(cmap=cmap, norm=norm)\n",
    "#sm.set_array([])\n",
    "#\n",
    "#cbar = fig.colorbar(sm, cax=cbar_ax, orientation='horizontal')\n",
    "#cbar.ax.tick_params(labelsize=10)\n",
    "#\n",
    "#custom_ticks = [0,1]\n",
    "#cbar.set_ticks(custom_ticks)\n",
    "#cbar.set_ticklabels(custom_ticks)\n",
    "#\n",
    "#fig.text(0.15, 0.05, '$\\\\kappa$', fontsize=10, ha='center', va='center')\n",
    "\n",
    "\n",
    "fig.savefig('/home/frieren/Dropbox/mnt/martensitepaper/fig6.pdf',dpi=300,bbox_inches='tight')\n",
    "fig.savefig('/home/frieren/Dropbox/mnt/martensitepaper/fig6.png',dpi=300,bbox_inches='tight')\n",
    "\n",
    "plt.show()"
   ]
  }
 ],
 "metadata": {
  "kernelspec": {
   "display_name": "Python 3 (ipykernel)",
   "language": "python",
   "name": "python3"
  },
  "language_info": {
   "codemirror_mode": {
    "name": "ipython",
    "version": 3
   },
   "file_extension": ".py",
   "mimetype": "text/x-python",
   "name": "python",
   "nbconvert_exporter": "python",
   "pygments_lexer": "ipython3",
   "version": "3.12.7"
  },
  "varInspector": {
   "cols": {
    "lenName": 16,
    "lenType": 16,
    "lenVar": 40
   },
   "kernels_config": {
    "python": {
     "delete_cmd_postfix": "",
     "delete_cmd_prefix": "del ",
     "library": "var_list.py",
     "varRefreshCmd": "print(var_dic_list())"
    },
    "r": {
     "delete_cmd_postfix": ") ",
     "delete_cmd_prefix": "rm(",
     "library": "var_list.r",
     "varRefreshCmd": "cat(var_dic_list()) "
    }
   },
   "types_to_exclude": [
    "module",
    "function",
    "builtin_function_or_method",
    "instance",
    "_Feature"
   ],
   "window_display": false
  }
 },
 "nbformat": 4,
 "nbformat_minor": 5
}
