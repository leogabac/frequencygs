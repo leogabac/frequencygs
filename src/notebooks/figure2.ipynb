{
 "cells": [
  {
   "cell_type": "markdown",
   "id": "bea6428f",
   "metadata": {},
   "source": [
    "# Plotting some figures "
   ]
  },
  {
   "cell_type": "code",
   "execution_count": 76,
   "id": "12f5fb4e",
   "metadata": {},
   "outputs": [],
   "source": [
    "import os\n",
    "import sys\n",
    "\n",
    "import numpy as np\n",
    "import pandas as pd\n",
    "\n",
    "from tqdm import tqdm\n",
    "from IPython.display import clear_output\n",
    "\n",
    "import matplotlib.pyplot as plt\n",
    "\n",
    "sys.path.insert(0, '../../../icenumerics/')\n",
    "sys.path.insert(0, '../auxnumerics/')\n",
    "sys.path.insert(0, '../')\n",
    "\n",
    "import icenumerics as ice\n",
    "import auxiliary as aux\n",
    "\n",
    "from parameters import params\n",
    "\n",
    "%reload_ext autoreload\n",
    "%autoreload 2\n",
    "\n",
    "ureg = ice.ureg\n",
    "idx = pd.IndexSlice"
   ]
  },
  {
   "cell_type": "code",
   "execution_count": 95,
   "id": "b17ad92e",
   "metadata": {},
   "outputs": [],
   "source": [
    "plt.rcParams.update({\n",
    "    \"pgf.texsystem\": \"pdflatex\",\n",
    "    'font.family': 'serif',\n",
    "    'text.usetex': True,\n",
    "    'pgf.rcfonts': False,\n",
    "    'xtick.labelsize':12,\n",
    "    'ytick.labelsize':12,\n",
    "    'axes.labelsize':20,\n",
    "})"
   ]
  },
  {
   "cell_type": "code",
   "execution_count": 77,
   "id": "f4f2c125",
   "metadata": {},
   "outputs": [],
   "source": [
    "DATA_PATH = '../../data/test11'\n",
    "MOUNT_DRIVE = '/home/frieren/BIG/'\n",
    "PROJECT = 'reentrancy'\n",
    "DATA_PATH = os.path.join(MOUNT_DRIVE, PROJECT,'test11')\n",
    "SIZE = 10"
   ]
  },
  {
   "cell_type": "markdown",
   "id": "b1a6c2d6",
   "metadata": {},
   "source": [
    "# Figure reference\n",
    "\n",
    "For reference, I want all my figures to be 3.2 in in width since that is the width of a column."
   ]
  },
  {
   "cell_type": "markdown",
   "id": "8348dc10",
   "metadata": {},
   "source": [
    "## Counts vs angle (time)"
   ]
  },
  {
   "cell_type": "code",
   "execution_count": 78,
   "id": "7438514f",
   "metadata": {},
   "outputs": [
    {
     "data": {
      "text/html": [
       "<div>\n",
       "<style scoped>\n",
       "    .dataframe tbody tr th:only-of-type {\n",
       "        vertical-align: middle;\n",
       "    }\n",
       "\n",
       "    .dataframe tbody tr th {\n",
       "        vertical-align: top;\n",
       "    }\n",
       "\n",
       "    .dataframe thead th {\n",
       "        text-align: right;\n",
       "    }\n",
       "</style>\n",
       "<table border=\"1\" class=\"dataframe\">\n",
       "  <thead>\n",
       "    <tr style=\"text-align: right;\">\n",
       "      <th></th>\n",
       "      <th></th>\n",
       "      <th>I</th>\n",
       "      <th>II</th>\n",
       "      <th>III</th>\n",
       "      <th>IV</th>\n",
       "      <th>V</th>\n",
       "      <th>VI</th>\n",
       "      <th>total_time</th>\n",
       "      <th>omega</th>\n",
       "      <th>theta</th>\n",
       "    </tr>\n",
       "    <tr>\n",
       "      <th>field</th>\n",
       "      <th>time</th>\n",
       "      <th></th>\n",
       "      <th></th>\n",
       "      <th></th>\n",
       "      <th></th>\n",
       "      <th></th>\n",
       "      <th></th>\n",
       "      <th></th>\n",
       "      <th></th>\n",
       "      <th></th>\n",
       "    </tr>\n",
       "  </thead>\n",
       "  <tbody>\n",
       "    <tr>\n",
       "      <th rowspan=\"5\" valign=\"top\">20</th>\n",
       "      <th>0.00</th>\n",
       "      <td>0.000</td>\n",
       "      <td>0.000</td>\n",
       "      <td>1.0</td>\n",
       "      <td>0.000</td>\n",
       "      <td>0.000</td>\n",
       "      <td>0.000</td>\n",
       "      <td>1</td>\n",
       "      <td>1.5708</td>\n",
       "      <td>0.00000</td>\n",
       "    </tr>\n",
       "    <tr>\n",
       "      <th>0.05</th>\n",
       "      <td>0.000</td>\n",
       "      <td>0.000</td>\n",
       "      <td>1.0</td>\n",
       "      <td>0.000</td>\n",
       "      <td>0.000</td>\n",
       "      <td>0.000</td>\n",
       "      <td>1</td>\n",
       "      <td>1.5708</td>\n",
       "      <td>0.07854</td>\n",
       "    </tr>\n",
       "    <tr>\n",
       "      <th>0.10</th>\n",
       "      <td>0.000</td>\n",
       "      <td>0.000</td>\n",
       "      <td>1.0</td>\n",
       "      <td>0.000</td>\n",
       "      <td>0.000</td>\n",
       "      <td>0.000</td>\n",
       "      <td>1</td>\n",
       "      <td>1.5708</td>\n",
       "      <td>0.15708</td>\n",
       "    </tr>\n",
       "    <tr>\n",
       "      <th>0.15</th>\n",
       "      <td>0.000</td>\n",
       "      <td>0.000</td>\n",
       "      <td>1.0</td>\n",
       "      <td>0.000</td>\n",
       "      <td>0.000</td>\n",
       "      <td>0.000</td>\n",
       "      <td>1</td>\n",
       "      <td>1.5708</td>\n",
       "      <td>0.23562</td>\n",
       "    </tr>\n",
       "    <tr>\n",
       "      <th>0.20</th>\n",
       "      <td>0.000</td>\n",
       "      <td>0.000</td>\n",
       "      <td>1.0</td>\n",
       "      <td>0.000</td>\n",
       "      <td>0.000</td>\n",
       "      <td>0.000</td>\n",
       "      <td>1</td>\n",
       "      <td>1.5708</td>\n",
       "      <td>0.31416</td>\n",
       "    </tr>\n",
       "    <tr>\n",
       "      <th>...</th>\n",
       "      <th>...</th>\n",
       "      <td>...</td>\n",
       "      <td>...</td>\n",
       "      <td>...</td>\n",
       "      <td>...</td>\n",
       "      <td>...</td>\n",
       "      <td>...</td>\n",
       "      <td>...</td>\n",
       "      <td>...</td>\n",
       "      <td>...</td>\n",
       "    </tr>\n",
       "    <tr>\n",
       "      <th rowspan=\"5\" valign=\"top\">18</th>\n",
       "      <th>995.00</th>\n",
       "      <td>0.093</td>\n",
       "      <td>0.368</td>\n",
       "      <td>0.0</td>\n",
       "      <td>0.076</td>\n",
       "      <td>0.372</td>\n",
       "      <td>0.091</td>\n",
       "      <td>1000</td>\n",
       "      <td>0.0016</td>\n",
       "      <td>1.59200</td>\n",
       "    </tr>\n",
       "    <tr>\n",
       "      <th>996.00</th>\n",
       "      <td>0.093</td>\n",
       "      <td>0.368</td>\n",
       "      <td>0.0</td>\n",
       "      <td>0.076</td>\n",
       "      <td>0.372</td>\n",
       "      <td>0.091</td>\n",
       "      <td>1000</td>\n",
       "      <td>0.0016</td>\n",
       "      <td>1.59360</td>\n",
       "    </tr>\n",
       "    <tr>\n",
       "      <th>997.00</th>\n",
       "      <td>0.093</td>\n",
       "      <td>0.365</td>\n",
       "      <td>0.0</td>\n",
       "      <td>0.082</td>\n",
       "      <td>0.369</td>\n",
       "      <td>0.091</td>\n",
       "      <td>1000</td>\n",
       "      <td>0.0016</td>\n",
       "      <td>1.59520</td>\n",
       "    </tr>\n",
       "    <tr>\n",
       "      <th>998.00</th>\n",
       "      <td>0.093</td>\n",
       "      <td>0.366</td>\n",
       "      <td>0.0</td>\n",
       "      <td>0.080</td>\n",
       "      <td>0.370</td>\n",
       "      <td>0.091</td>\n",
       "      <td>1000</td>\n",
       "      <td>0.0016</td>\n",
       "      <td>1.59680</td>\n",
       "    </tr>\n",
       "    <tr>\n",
       "      <th>999.00</th>\n",
       "      <td>0.093</td>\n",
       "      <td>0.363</td>\n",
       "      <td>0.0</td>\n",
       "      <td>0.086</td>\n",
       "      <td>0.367</td>\n",
       "      <td>0.091</td>\n",
       "      <td>1000</td>\n",
       "      <td>0.0016</td>\n",
       "      <td>1.59840</td>\n",
       "    </tr>\n",
       "  </tbody>\n",
       "</table>\n",
       "<p>302400 rows × 9 columns</p>\n",
       "</div>"
      ],
      "text/plain": [
       "                  I     II  III     IV      V     VI  total_time   omega  \\\n",
       "field time                                                                 \n",
       "20    0.00    0.000  0.000  1.0  0.000  0.000  0.000           1  1.5708   \n",
       "      0.05    0.000  0.000  1.0  0.000  0.000  0.000           1  1.5708   \n",
       "      0.10    0.000  0.000  1.0  0.000  0.000  0.000           1  1.5708   \n",
       "      0.15    0.000  0.000  1.0  0.000  0.000  0.000           1  1.5708   \n",
       "      0.20    0.000  0.000  1.0  0.000  0.000  0.000           1  1.5708   \n",
       "...             ...    ...  ...    ...    ...    ...         ...     ...   \n",
       "18    995.00  0.093  0.368  0.0  0.076  0.372  0.091        1000  0.0016   \n",
       "      996.00  0.093  0.368  0.0  0.076  0.372  0.091        1000  0.0016   \n",
       "      997.00  0.093  0.365  0.0  0.082  0.369  0.091        1000  0.0016   \n",
       "      998.00  0.093  0.366  0.0  0.080  0.370  0.091        1000  0.0016   \n",
       "      999.00  0.093  0.363  0.0  0.086  0.367  0.091        1000  0.0016   \n",
       "\n",
       "                theta  \n",
       "field time             \n",
       "20    0.00    0.00000  \n",
       "      0.05    0.07854  \n",
       "      0.10    0.15708  \n",
       "      0.15    0.23562  \n",
       "      0.20    0.31416  \n",
       "...               ...  \n",
       "18    995.00  1.59200  \n",
       "      996.00  1.59360  \n",
       "      997.00  1.59520  \n",
       "      998.00  1.59680  \n",
       "      999.00  1.59840  \n",
       "\n",
       "[302400 rows x 9 columns]"
      ]
     },
     "execution_count": 78,
     "metadata": {},
     "output_type": "execute_result"
    }
   ],
   "source": [
    "# load the csv that has all counts for all total time (omega vals)\n",
    "# and the complete timeseries\n",
    "raw_data = pd.read_csv(os.path.join(DATA_PATH,'10','average_counts.csv'),index_col=['field','time'])\n",
    "\n",
    "# compute the omega values, and theta as well\n",
    "omega = np.pi/2/raw_data.total_time.to_numpy()\n",
    "\n",
    "# append omega and theta to the df\n",
    "raw_data['omega'] = np.around(omega,4)\n",
    "raw_data['theta'] = raw_data.index.get_level_values('time') * raw_data.omega\n",
    "raw_data"
   ]
  },
  {
   "cell_type": "code",
   "execution_count": 90,
   "id": "ee799aaf",
   "metadata": {},
   "outputs": [
    {
     "name": "stdout",
     "output_type": "stream",
     "text": [
      "selected values:\n",
      "[0.2618 0.1428 0.0982 0.0524 0.0175]\n"
     ]
    }
   ],
   "source": [
    "ws = raw_data.omega.unique()\n",
    "ws = ws[ws <= 0.3][::5]\n",
    "print('selected values:')\n",
    "print(ws)"
   ]
  },
  {
   "cell_type": "code",
   "execution_count": 6,
   "id": "85ef454d",
   "metadata": {},
   "outputs": [],
   "source": [
    "import matplotlib.patches as patches\n",
    "def plot_simple_colloids(ax, title, centers, dirs, sep=1/7, scale=0.6, color='gray'):\n",
    "    for c,d in zip(centers,dirs):\n",
    "        atom = (c+sep*d)*scale\n",
    "        trap = (c-sep*d)*scale\n",
    "        circle = patches.Circle((atom[0],atom[1]), 0.07, edgecolor='black', facecolor='none',linewidth=2)\n",
    "        atom = patches.Circle((atom[0],atom[1]), 0.07, edgecolor='none', facecolor='#c02a2e')\n",
    "        trap = patches.Circle((trap[0],trap[1]), 0.07, edgecolor='none', facecolor='#b1bfb3')\n",
    "\n",
    "        # Add the circle to the plot\n",
    "        ax.add_patch(circle) \n",
    "        ax.add_patch(atom) \n",
    "        ax.add_patch(trap) \n",
    "    \n",
    "        #ax.scatter(*atom,c='#c02a2e',s=50)\n",
    "        #ax.scatter(*trap,c='#b1bfb3',s=50)\n",
    "        ax.set_title(title)\n",
    "        ax.xaxis.set_ticks([])\n",
    "        ax.yaxis.set_ticks([])\n",
    "\n",
    "    ax.autoscale_view()\n",
    "    #ax.set_facecolor(color,alpha=0.3)"
   ]
  },
  {
   "cell_type": "code",
   "execution_count": 91,
   "id": "78abdda0",
   "metadata": {
    "scrolled": false
   },
   "outputs": [
    {
     "data": {
      "image/png": "[encoded data removed]",
      "text/plain": [
       "<Figure size 100x200 with 1 Axes>"
      ]
     },
     "metadata": {},
     "output_type": "display_data"
    }
   ],
   "source": [
    "fig, ax = plt.subplots(figsize=(1,2))\n",
    "centers = np.array([[0,0],[1,0],[1/2,1/2],[1/2,-1/2],[1/2,3/2],[0,1],[1,1]])\n",
    "af4 = np.array([[1,0],[-1,0],[0,-1],[0,1],[0,1],[-1,0],[1,0]])\n",
    "af2 = np.array([[-1,0],[-1,0],[0,-1],[0,1],[0,1],[1,0],[1,0]])\n",
    "zero = np.array([[-1,0],[-1,0],[0,1],[0,1],[0,-1],[-1,0],[1,0]])\n",
    "\n",
    "\n",
    "plot_simple_colloids(ax,'Test',centers,zero)\n",
    "plt.show()"
   ]
  },
  {
   "cell_type": "code",
   "execution_count": 185,
   "id": "020366ac",
   "metadata": {},
   "outputs": [
    {
     "data": {
      "image/png": "[encoded data removed]",
      "text/plain": [
       "<Figure size 320x500 with 7 Axes>"
      ]
     },
     "metadata": {},
     "output_type": "display_data"
    }
   ],
   "source": [
    "fig, axes = plt.subplots(3, 2, figsize=(3.2,5), dpi=100)\n",
    "\n",
    "norm = plt.Normalize(min(ws),max(ws))\n",
    "cmap = plt.get_cmap('jet')\n",
    "\n",
    "field_values = [10,20]\n",
    "\n",
    "# plotting the fields\n",
    "for j,B in enumerate(field_values):\n",
    "    # here j selects the column in which it is going to be plotted\n",
    "    for i,(w,cdf_w) in enumerate(raw_data.groupby('omega')):\n",
    "        \n",
    "        if w in ws:\n",
    "            cdf_wB = cdf_w.xs(B,level='field')\n",
    "            \n",
    "            axes[0][j].plot(cdf_wB.theta*180/np.pi,cdf_wB.I + cdf_wB.VI, color = cmap(norm(w)))\n",
    "            axes[0][j].set_title(f'${B}$ mT')\n",
    "            \n",
    "            axes[1][j].plot(cdf_wB.theta*180/np.pi,cdf_wB.II + cdf_wB.V, color = cmap(norm(w)))\n",
    "            \n",
    "            axes[2][j].plot(cdf_wB.theta*180/np.pi,cdf_wB.III + cdf_wB.IV, color = cmap(norm(w)))\n",
    "\n",
    "\n",
    "# adjusting the ticks and axes\n",
    "for i in range(3):\n",
    "    for j in range(2):\n",
    "        axes[i][j].set_xlim(30,91)\n",
    "        axes[i][j].set_ylim(0,1.1)\n",
    "        \n",
    "        axes[i][j].set_xticks([30,60,90])\n",
    "        axes[i][j].set_yticks([0,0.5,1])\n",
    "        \n",
    "        axes[i][j].grid()\n",
    "\n",
    "        if i<2:\n",
    "            axes[i][j].set_xticklabels([])\n",
    "            \n",
    "        if j>0:\n",
    "            axes[i][j].set_yticklabels([])\n",
    "\n",
    "\n",
    "# putting a colorbar\n",
    "fig.text(0.5,0.1,'$\\\\omega t$', fontsize=20)\n",
    "fig.text(0.05, 0.5, 'Vertices counts', ha='center', va='center', rotation=90, fontsize=15)\n",
    "           \n",
    "fig.subplots_adjust(bottom=0.2)  # Adjust the bottom space to make room for the colorbar\n",
    "fig.subplots_adjust(left=0.2)  # Adjust the bottom space to make room for the shared axis label\n",
    "\n",
    "cbar_ax = fig.add_axes([0.2, 0.05, 0.7, 0.01])  # [left, bottom, width, height]\n",
    "sm = plt.cm.ScalarMappable(cmap=cmap, norm=norm)\n",
    "sm.set_array([])  # Set an empty array to the ScalarMappable\n",
    "\n",
    "cbar = fig.colorbar(sm, cax=cbar_ax, orientation='horizontal')\n",
    "cbar.set_label(label='$\\\\omega$ [Hz]', fontsize=15)\n",
    "cbar.ax.tick_params(labelsize=15)\n",
    "\n",
    "custom_ticks = np.round(np.array([min(ws), (min(ws)+max(ws)/2) ,max(ws)]),2)\n",
    "cbar.set_ticks(custom_ticks)\n",
    "cbar.set_ticklabels(custom_ticks)\n",
    "\n",
    "\n",
    "# putting boxes around the rows\n",
    "# Colors for each row\n",
    "colors = ['blue', 'lightblue', '#c28315']\n",
    "\n",
    "fig.add_artist(\n",
    "    patches.Rectangle(\n",
    "        (0.18, 2/3), 0.73, 0.22, color=colors[0], alpha=0.5, transform=fig.transFigure, zorder=0)\n",
    ")\n",
    "\n",
    "fig.add_artist(\n",
    "    patches.Rectangle(\n",
    "        (0.18, 0.428), 0.73, 0.22, color=colors[1], alpha=0.5, transform=fig.transFigure, zorder=0)\n",
    ")\n",
    "\n",
    "\n",
    "fig.add_artist(\n",
    "    patches.Rectangle(\n",
    "        (0.18, 0.187), 0.73, 0.22, color=colors[2], alpha=0.5, transform=fig.transFigure, zorder=0)\n",
    ")\n",
    "\n",
    "plt.show()"
   ]
  },
  {
   "cell_type": "markdown",
   "id": "3371f22e",
   "metadata": {},
   "source": [
    "# Ignoring some computations"
   ]
  },
  {
   "cell_type": "code",
   "execution_count": 18,
   "id": "782d692c",
   "metadata": {},
   "outputs": [],
   "source": [
    "import numpy as np\n",
    "import matplotlib.pyplot as plt"
   ]
  },
  {
   "cell_type": "code",
   "execution_count": 21,
   "id": "5bf4c800",
   "metadata": {},
   "outputs": [
    {
     "name": "stderr",
     "output_type": "stream",
     "text": [
      "/tmp/ipykernel_20432/1355039461.py:2: RuntimeWarning: invalid value encountered in arccos\n",
      "  magic_angle = np.arccos(1/np.sqrt(3)/np.sin(theta)) * 180/np.pi\n"
     ]
    },
    {
     "data": {
      "image/png": "[encoded data removed]",
      "text/plain": [
       "<Figure size 640x480 with 1 Axes>"
      ]
     },
     "metadata": {},
     "output_type": "display_data"
    }
   ],
   "source": [
    "theta = np.arange(0.02,np.pi/2,0.01)\n",
    "magic_angle = np.arccos(1/np.sqrt(3)/np.sin(theta)) * 180/np.pi\n",
    "\n",
    "plt.plot(theta * 180/np.pi, magic_angle)\n",
    "plt.grid()"
   ]
  }
 ],
 "metadata": {
  "kernelspec": {
   "display_name": "Python 3 (ipykernel)",
   "language": "python",
   "name": "python3"
  },
  "language_info": {
   "codemirror_mode": {
    "name": "ipython",
    "version": 3
   },
   "file_extension": ".py",
   "mimetype": "text/x-python",
   "name": "python",
   "nbconvert_exporter": "python",
   "pygments_lexer": "ipython3",
   "version": "3.12.3"
  },
  "varInspector": {
   "cols": {
    "lenName": 16,
    "lenType": 16,
    "lenVar": 40
   },
   "kernels_config": {
    "python": {
     "delete_cmd_postfix": "",
     "delete_cmd_prefix": "del ",
     "library": "var_list.py",
     "varRefreshCmd": "print(var_dic_list())"
    },
    "r": {
     "delete_cmd_postfix": ") ",
     "delete_cmd_prefix": "rm(",
     "library": "var_list.r",
     "varRefreshCmd": "cat(var_dic_list()) "
    }
   },
   "types_to_exclude": [
    "module",
    "function",
    "builtin_function_or_method",
    "instance",
    "_Feature"
   ],
   "window_display": false
  }
 },
 "nbformat": 4,
 "nbformat_minor": 5
}
