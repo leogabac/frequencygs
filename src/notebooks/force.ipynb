{
 "cells": [
  {
   "cell_type": "markdown",
   "id": "77453390",
   "metadata": {},
   "source": [
    "# Forces"
   ]
  },
  {
   "cell_type": "code",
   "execution_count": 1,
   "id": "454e503b",
   "metadata": {},
   "outputs": [],
   "source": [
    "import os\n",
    "import sys\n",
    "\n",
    "import numpy as np\n",
    "import pandas as pd\n",
    "import matplotlib.pyplot as plt\n",
    "\n",
    "from tqdm import tqdm\n",
    "sys.path.insert(0, '../../../icenumerics/')\n",
    "sys.path.insert(0, './../auxnumerics/')\n",
    "sys.path.insert(0, '../')\n",
    "import icenumerics as ice\n",
    "\n",
    "\n",
    "from parameters import params\n",
    "import auxiliary as aux\n",
    "import montecarlo_colloids as mc\n",
    "import vertices as vrt\n",
    "\n",
    "ureg = ice.ureg\n",
    "\n",
    "%reload_ext autoreload\n",
    "%autoreload 2\n",
    "\n",
    "idx = pd.IndexSlice\n"
   ]
  },
  {
   "cell_type": "code",
   "execution_count": 81,
   "id": "1c7e057d",
   "metadata": {},
   "outputs": [],
   "source": [
    "plt.rcParams.update({\n",
    "    \"pgf.texsystem\": \"pdflatex\",\n",
    "    'font.family': 'serif',\n",
    "    'text.usetex': True,\n",
    "    'pgf.rcfonts': False,\n",
    "    'xtick.labelsize':15,\n",
    "    'ytick.labelsize':15,\n",
    "    'axes.labelsize':20,\n",
    "})"
   ]
  },
  {
   "cell_type": "code",
   "execution_count": 6,
   "id": "2dd2f51c",
   "metadata": {},
   "outputs": [],
   "source": [
    "def geometrical_part(r,B):\n",
    "    \"\"\" \n",
    "        Geometrical part of the force \n",
    "        (rxB)xB - 2r + 5r (rxB)^2\n",
    "    \"\"\"\n",
    "    rcb = np.cross(r,B)\n",
    "    return 2*np.cross(rcb,B) - 2*r + 5*r*np.dot(rcb,rcb)\n",
    "\n",
    "def get_forces(params, positions, Bhat = [1,0,0]):\n",
    "    \"\"\"\n",
    "        Compute the total force on all the particles\n",
    "    \"\"\"\n",
    "    \n",
    "    # get the dimensional part in pN * nm\n",
    "    factor = (3*params['mu0']*params['m']**2)/(4*np.pi)\n",
    "    factor = factor.to(ureg.piconewton * ureg.micrometer**4)\n",
    "    \n",
    "    forces = [] # init\n",
    "    \n",
    "    # loop all particles\n",
    "    for i,r1 in enumerate(positions):\n",
    "\n",
    "        force = np.array([0,0,0])*ureg.piconewton\n",
    "\n",
    "        # get the contribution from all particles to particle i\n",
    "        for j,r2 in enumerate(positions):\n",
    "\n",
    "            R = r1 - r2 \n",
    "            distance = np.linalg.norm(R)\n",
    "            \n",
    "            # the algorithm eventually gets to itself, \n",
    "            # so I just want to skip this case\n",
    "            if distance == 0:\n",
    "                continue\n",
    "\n",
    "            rhat = R/distance \n",
    "            distance = distance*ureg.um\n",
    "            force = force + factor/distance**4 * geometrical_part(rhat,Bhat)\n",
    "\n",
    "        forces.append(force.magnitude) \n",
    "    return np.asarray(forces)"
   ]
  },
  {
   "cell_type": "markdown",
   "id": "7e5c70ed",
   "metadata": {},
   "source": [
    "#  Verifying the vertices files"
   ]
  },
  {
   "cell_type": "code",
   "execution_count": 7,
   "id": "10208235",
   "metadata": {},
   "outputs": [],
   "source": [
    "DRIVE = '/home/frieren/BIG/'\n",
    "PROJECT = 'reentrancy/states'"
   ]
  },
  {
   "cell_type": "code",
   "execution_count": 20,
   "id": "9aca5af8",
   "metadata": {},
   "outputs": [
    {
     "data": {
      "image/png": "[encoded data removed]",
      "text/plain": [
       "<Figure size 500x500 with 1 Axes>"
      ]
     },
     "metadata": {},
     "output_type": "display_data"
    }
   ],
   "source": [
    "trj = pd.read_csv(os.path.join(DRIVE,PROJECT,'type3.csv'),index_col='id')\n",
    "trj = vrt.trj2trj(trj)\n",
    "trj[['dx','dy','dz']] = trj[['dx','dy','dz']].apply(lambda x: params['trap_sep'].magnitude*x)\n",
    "\n",
    "fig, ax = plt.subplots(figsize=(5,5))\n",
    "ice.draw_frame(trj, frame_no=0,\n",
    "               radius=params[\"particle_radius\"].magnitude,\n",
    "               cutoff=params[\"trap_sep\"].magnitude/2,\n",
    "               particle_color='#75b7ea',\n",
    "               trap_color='gray',\n",
    "               ax = ax)\n",
    "\n",
    "plt.show()"
   ]
  },
  {
   "cell_type": "code",
   "execution_count": 77,
   "id": "5e94a193",
   "metadata": {},
   "outputs": [],
   "source": [
    "def import_and_correct(params,filepath):\n",
    "    \"\"\" Imports the trj and corrects the dx dy dz to include the trap sep \"\"\"\n",
    "    trj = vrt.trj2trj( pd.read_csv(filepath,index_col=['id']) )\n",
    "    trj[['dx','dy','dz']] = trj[['dx','dy','dz']].apply(lambda x: params['trap_sep'].magnitude*x)\n",
    "    return trj\n",
    "\n",
    "def get_positions(trj):\n",
    "    \"\"\" Gets a matrix where each row contains [x,y,z] for particle i \"\"\"\n",
    "    x = (trj['x'] + trj['cx']).to_numpy()\n",
    "    y = (trj['y'] + trj['cy']).to_numpy()\n",
    "    z = (trj['z'] + trj['cz']).to_numpy()\n",
    "    return  np.vstack([x,y,z]).T\n",
    "\n",
    "def forces_elements(params, positions, Bhat):\n",
    "    \"\"\" Compute the forces and returns the directions and magnitudes \"\"\"\n",
    "    forces = get_forces(params,positions, Bhat=Bhat)\n",
    "    fdirs = np.asarray([f/np.linalg.norm(f) for f in forces])\n",
    "    mags = np.round( np.array([np.linalg.norm(f) for f in forces]),4)\n",
    "\n",
    "    return fdirs, mags\n",
    "    "
   ]
  },
  {
   "cell_type": "code",
   "execution_count": 78,
   "id": "a45324d2",
   "metadata": {},
   "outputs": [
    {
     "data": {
      "text/plain": [
       "dict_keys(['trj16', 'trj25', 'trj3', 'trj4', 'pos16', 'pos25', 'pos3', 'pos4'])"
      ]
     },
     "execution_count": 78,
     "metadata": {},
     "output_type": "execute_result"
    }
   ],
   "source": [
    "names = ['16','25','3','4']\n",
    "files = ['q4.csv','q2.csv','type3.csv','type4.csv']\n",
    "\n",
    "# import the trajectories\n",
    "topology = {\n",
    "    f\"trj{name}\":import_and_correct(params,os.path.join(DRIVE,PROJECT,file)) for (name,file) in zip(names,files)\n",
    "}\n",
    "\n",
    "# add the positions\n",
    "topology = topology | {\n",
    "    f\"pos{name}\":get_positions(topology[f\"trj{name}\"]) for name in names\n",
    "}\n",
    "\n",
    "stuff.keys()"
   ]
  },
  {
   "cell_type": "code",
   "execution_count": 123,
   "id": "2c6db1e5",
   "metadata": {},
   "outputs": [
    {
     "data": {
      "text/plain": [
       "array([0.  , 0.01, 0.02, 0.03, 0.04, 0.05, 0.06, 0.07, 0.08, 0.09, 0.1 ,\n",
       "       0.11, 0.12, 0.13, 0.14, 0.15, 0.16, 0.17, 0.18, 0.19, 0.2 , 0.21,\n",
       "       0.22, 0.23, 0.24, 0.25, 0.26, 0.27, 0.28, 0.29, 0.3 , 0.31, 0.32,\n",
       "       0.33, 0.34, 0.35, 0.36, 0.37, 0.38, 0.39, 0.4 , 0.41, 0.42, 0.43,\n",
       "       0.44, 0.45, 0.46, 0.47, 0.48, 0.49, 0.5 , 0.51, 0.52, 0.53, 0.54,\n",
       "       0.55, 0.56, 0.57, 0.58, 0.59, 0.6 , 0.61, 0.62, 0.63, 0.64, 0.65,\n",
       "       0.66, 0.67, 0.68, 0.69, 0.7 , 0.71, 0.72, 0.73, 0.74, 0.75, 0.76,\n",
       "       0.77, 0.78, 0.79, 0.8 , 0.81, 0.82, 0.83, 0.84, 0.85, 0.86, 0.87,\n",
       "       0.88, 0.89, 0.9 , 0.91, 0.92, 0.93, 0.94, 0.95, 0.96, 0.97, 0.98,\n",
       "       0.99, 1.  , 1.01, 1.02, 1.03, 1.04, 1.05, 1.06, 1.07, 1.08, 1.09,\n",
       "       1.1 , 1.11, 1.12, 1.13, 1.14, 1.15, 1.16, 1.17, 1.18, 1.19, 1.2 ,\n",
       "       1.21, 1.22, 1.23, 1.24, 1.25, 1.26, 1.27, 1.28, 1.29, 1.3 , 1.31,\n",
       "       1.32, 1.33, 1.34, 1.35, 1.36, 1.37, 1.38, 1.39, 1.4 , 1.41, 1.42,\n",
       "       1.43, 1.44, 1.45, 1.46, 1.47, 1.48, 1.49, 1.5 , 1.51, 1.52, 1.53,\n",
       "       1.54, 1.55, 1.56, 1.57])"
      ]
     },
     "execution_count": 123,
     "metadata": {},
     "output_type": "execute_result"
    }
   ],
   "source": [
    "angles = np.round(np.arange(0,np.pi/2,0.01),3)\n",
    "fields = [[np.sin(theta),0,np.cos(theta)] for theta in angles]\n",
    "angles"
   ]
  },
  {
   "cell_type": "code",
   "execution_count": 125,
   "id": "8670ab2b",
   "metadata": {},
   "outputs": [],
   "source": [
    "fig, axes = plt.subplots(1,4,figsize=(15,5))\n",
    "\n",
    "for i,(B,theta) in enumerate(zip(fields,angles)):\n",
    "    \n",
    "    # forces and magnitudes separately\n",
    "    fm = {f\"fm{name}\": forces_elements(params, topology[f\"pos{name}\"], Bhat=B) for name in names }\n",
    "\n",
    "    for j,name in enumerate(names):\n",
    "        ax = axes[j]\n",
    "        \n",
    "        # put the angle only in the first one\n",
    "        if j==0:\n",
    "            ax.set_title(f'$\\\\theta = {theta * 180/np.pi:.2f}$',fontsize=20)\n",
    "            \n",
    "        ice.draw_frame(topology[f'trj{name}'], frame_no=0,\n",
    "                       radius=params[\"particle_radius\"].magnitude,\n",
    "                       cutoff=params[\"trap_sep\"].magnitude/2,\n",
    "                       particle_color='#75b7ea',\n",
    "                       trap_color='gray',\n",
    "                       ax = ax)\n",
    "\n",
    "        positions = topology[f'pos{name}']\n",
    "        fdirs,mags = fm[f'fm{name}']\n",
    "        forces = fdirs * mags[:,np.newaxis]\n",
    "        ax.quiver(positions[:,0],positions[:,1],forces[:,0],forces[:,1])\n",
    "\n",
    "    fig.savefig(os.path.join(DRIVE,'reentrancy/forces',f'{i}.png'), bbox_inches='tight')\n",
    "    plt.close(fig)"
   ]
  }
 ],
 "metadata": {
  "kernelspec": {
   "display_name": "Python 3 (ipykernel)",
   "language": "python",
   "name": "python3"
  },
  "language_info": {
   "codemirror_mode": {
    "name": "ipython",
    "version": 3
   },
   "file_extension": ".py",
   "mimetype": "text/x-python",
   "name": "python",
   "nbconvert_exporter": "python",
   "pygments_lexer": "ipython3",
   "version": "3.12.3"
  },
  "varInspector": {
   "cols": {
    "lenName": 16,
    "lenType": 16,
    "lenVar": 40
   },
   "kernels_config": {
    "python": {
     "delete_cmd_postfix": "",
     "delete_cmd_prefix": "del ",
     "library": "var_list.py",
     "varRefreshCmd": "print(var_dic_list())"
    },
    "r": {
     "delete_cmd_postfix": ") ",
     "delete_cmd_prefix": "rm(",
     "library": "var_list.r",
     "varRefreshCmd": "cat(var_dic_list()) "
    }
   },
   "types_to_exclude": [
    "module",
    "function",
    "builtin_function_or_method",
    "instance",
    "_Feature"
   ],
   "window_display": false
  }
 },
 "nbformat": 4,
 "nbformat_minor": 5
}
