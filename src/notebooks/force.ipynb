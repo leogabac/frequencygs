{
 "cells": [
  {
   "cell_type": "markdown",
   "id": "9cbd4a43",
   "metadata": {},
   "source": [
    "# Forces"
   ]
  },
  {
   "cell_type": "code",
   "execution_count": 1,
   "id": "7f5ce530",
   "metadata": {},
   "outputs": [],
   "source": [
    "import os\n",
    "import sys\n",
    "\n",
    "import numpy as np\n",
    "import pandas as pd\n",
    "import matplotlib.pyplot as plt\n",
    "\n",
    "from tqdm import tqdm\n",
    "sys.path.insert(0, '../../../icenumerics/')\n",
    "sys.path.insert(0, './../auxnumerics/')\n",
    "sys.path.insert(0, '../')\n",
    "import icenumerics as ice\n",
    "\n",
    "\n",
    "from parameters import params\n",
    "import auxiliary as aux\n",
    "import montecarlo_colloids as mc\n",
    "import vertices as vrt\n",
    "\n",
    "ureg = ice.ureg\n",
    "\n",
    "%reload_ext autoreload\n",
    "%autoreload 2\n",
    "\n",
    "idx = pd.IndexSlice\n"
   ]
  },
  {
   "cell_type": "code",
   "execution_count": 2,
   "id": "3a66035a",
   "metadata": {},
   "outputs": [],
   "source": [
    "plt.rcParams.update({\n",
    "    \"pgf.texsystem\": \"pdflatex\",\n",
    "    'font.family': 'serif',\n",
    "    'text.usetex': True,\n",
    "    'pgf.rcfonts': False,\n",
    "    'xtick.labelsize':15,\n",
    "    'ytick.labelsize':15,\n",
    "    'axes.labelsize':20,\n",
    "})"
   ]
  },
  {
   "cell_type": "code",
   "execution_count": 3,
   "id": "cb63cd11",
   "metadata": {},
   "outputs": [],
   "source": [
    "def geometrical_part(r,B):\n",
    "    \"\"\" \n",
    "        Geometrical part of the force \n",
    "        (rxB)xB - 2r + 5r (rxB)^2\n",
    "    \"\"\"\n",
    "    rcb = np.cross(r,B)\n",
    "    return 2*np.cross(rcb,B) - 2*r + 5*r*np.dot(rcb,rcb)\n",
    "\n",
    "def get_forces(params, positions, Bhat = [1,0,0]):\n",
    "    \"\"\"\n",
    "        Compute the total force on all the particles\n",
    "    \"\"\"\n",
    "    \n",
    "    # get the dimensional part in pN * nm\n",
    "    factor = (3*params['mu0']*params['m']**2)/(4*np.pi)\n",
    "    factor = factor.to(ureg.piconewton * ureg.micrometer**4)\n",
    "    \n",
    "    forces = [] # init\n",
    "    \n",
    "    # loop all particles\n",
    "    for i,r1 in enumerate(positions):\n",
    "\n",
    "        force = np.array([0,0,0])*ureg.piconewton\n",
    "\n",
    "        # get the contribution from all particles to particle i\n",
    "        for j,r2 in enumerate(positions):\n",
    "\n",
    "            R = r1 - r2 \n",
    "            distance = np.linalg.norm(R)\n",
    "            \n",
    "            # the algorithm eventually gets to itself, \n",
    "            # so I just want to skip this case\n",
    "            if distance == 0:\n",
    "                continue\n",
    "\n",
    "            rhat = R/distance \n",
    "            distance = distance*ureg.um\n",
    "            force = force + factor/distance**4 * geometrical_part(rhat,Bhat)\n",
    "\n",
    "        forces.append(force.magnitude) \n",
    "    return np.asarray(forces)"
   ]
  },
  {
   "cell_type": "markdown",
   "id": "f57c7308",
   "metadata": {},
   "source": [
    "#  Verifying the vertices files"
   ]
  },
  {
   "cell_type": "code",
   "execution_count": 4,
   "id": "a8aef3c9",
   "metadata": {},
   "outputs": [],
   "source": [
    "DRIVE = '/mnt/BIG/'\n",
    "PROJECT = 'reentrancy/states'"
   ]
  },
  {
   "cell_type": "code",
   "execution_count": 33,
   "id": "e67df706",
   "metadata": {},
   "outputs": [
    {
     "data": {
      "image/png": "[encoded data removed]",
      "text/plain": [
       "<Figure size 500x500 with 1 Axes>"
      ]
     },
     "metadata": {},
     "output_type": "display_data"
    }
   ],
   "source": [
    "trj = pd.read_csv(os.path.join(DRIVE,PROJECT,'q0.csv'),index_col='id')\n",
    "trj = vrt.trj2trj(trj)\n",
    "trj[['dx','dy','dz']] = trj[['dx','dy','dz']].apply(lambda x: params['trap_sep'].magnitude*x)\n",
    "\n",
    "fig, ax = plt.subplots(figsize=(5,5))\n",
    "ice.draw_frame(trj, frame_no=0,\n",
    "               radius=params[\"particle_radius\"].magnitude,\n",
    "               cutoff=params[\"trap_sep\"].magnitude/2,\n",
    "               particle_color='#75b7ea',\n",
    "               trap_color='gray',\n",
    "               ax = ax)\n",
    "\n",
    "plt.show()"
   ]
  },
  {
   "cell_type": "code",
   "execution_count": 34,
   "id": "1e8ccc6c",
   "metadata": {},
   "outputs": [],
   "source": [
    "def import_and_correct(params,filepath):\n",
    "    \"\"\" Imports the trj and corrects the dx dy dz to include the trap sep \"\"\"\n",
    "    trj = vrt.trj2trj( pd.read_csv(filepath,index_col=['id']) )\n",
    "    trj[['dx','dy','dz']] = trj[['dx','dy','dz']].apply(lambda x: params['trap_sep'].magnitude*x)\n",
    "    return trj\n",
    "\n",
    "def get_positions(trj):\n",
    "    \"\"\" Gets a matrix where each row contains [x,y,z] for particle i \"\"\"\n",
    "    x = (trj['x'] + trj['cx']).to_numpy()\n",
    "    y = (trj['y'] + trj['cy']).to_numpy()\n",
    "    z = (trj['z'] + trj['cz']).to_numpy()\n",
    "    return  np.vstack([x,y,z]).T\n",
    "\n",
    "def forces_elements(params, positions, Bhat):\n",
    "    \"\"\" Compute the forces and returns the directions and magnitudes \"\"\"\n",
    "    forces = get_forces(params,positions, Bhat=Bhat)\n",
    "    fdirs = np.asarray([f/np.linalg.norm(f) for f in forces])\n",
    "    mags = np.round( np.array([np.linalg.norm(f) for f in forces]),4)\n",
    "\n",
    "    return fdirs, mags\n",
    "    "
   ]
  },
  {
   "cell_type": "code",
   "execution_count": 43,
   "id": "721fdca3",
   "metadata": {},
   "outputs": [
    {
     "data": {
      "text/plain": [
       "dict_keys(['trj16', 'trj25', 'trj3', 'trj4', 'pos16', 'pos25', 'pos3', 'pos4'])"
      ]
     },
     "execution_count": 43,
     "metadata": {},
     "output_type": "execute_result"
    }
   ],
   "source": [
    "names = ['16','25','3','4']\n",
    "files = ['q4.csv','q2.csv','type3.csv','type4.csv']\n",
    "files = ['q0.csv','q2.csv','type3.csv','type4.csv']\n",
    "\n",
    "# import the trajectories\n",
    "topology = {\n",
    "    f\"trj{name}\":import_and_correct(params,os.path.join(DRIVE,PROJECT,file)) for (name,file) in zip(names,files)\n",
    "}\n",
    "\n",
    "# add the positions\n",
    "topology = topology | {\n",
    "    f\"pos{name}\":get_positions(topology[f\"trj{name}\"]) for name in names\n",
    "}\n",
    "\n",
    "topology.keys()"
   ]
  },
  {
   "cell_type": "code",
   "execution_count": 44,
   "id": "f8e6a986",
   "metadata": {},
   "outputs": [],
   "source": [
    "angles = np.round(np.arange(0,np.pi/2,0.01),3)\n",
    "#fields = [[np.sin(theta),0,np.cos(theta)] for theta in angles]\n",
    "fields = [[0,np.sin(theta),np.cos(theta)] for theta in angles]\n",
    "\n",
    "angles = angles[::2]\n",
    "fields = fields[::2]"
   ]
  },
  {
   "cell_type": "code",
   "execution_count": 45,
   "id": "3e4a0a9c",
   "metadata": {},
   "outputs": [],
   "source": [
    "fig, axes = plt.subplots(1,4,figsize=(15,5))\n",
    "\n",
    "for i,(B,theta) in enumerate(zip(fields,angles)):\n",
    "    \n",
    "    # forces and magnitudes separately\n",
    "    fm = {f\"fm{name}\": forces_elements(params, topology[f\"pos{name}\"], Bhat=B) for name in names }\n",
    "\n",
    "    for j,name in enumerate(names):\n",
    "        ax = axes[j]\n",
    "        \n",
    "        # put the angle only in the first one\n",
    "        if j==0:\n",
    "            ax.set_title(f'$\\\\theta = {theta * 180/np.pi:.2f}$',fontsize=20)\n",
    "            \n",
    "        ice.draw_frame(topology[f'trj{name}'], frame_no=0,\n",
    "                       radius=params[\"particle_radius\"].magnitude,\n",
    "                       cutoff=params[\"trap_sep\"].magnitude/2,\n",
    "                       particle_color='#75b7ea',\n",
    "                       trap_color='gray',\n",
    "                       ax = ax)\n",
    "\n",
    "        positions = topology[f'pos{name}']\n",
    "        fdirs,mags = fm[f'fm{name}']\n",
    "        forces = fdirs * mags[:,np.newaxis] * 5\n",
    "        ax.quiver(positions[:,0],positions[:,1],forces[:,0],forces[:,1])\n",
    "\n",
    "    fig.savefig(os.path.join(DRIVE,'reentrancy/forces',f'{i}.png'), bbox_inches='tight')\n",
    "    plt.close(fig)"
   ]
  },
  {
   "cell_type": "code",
   "execution_count": null,
   "id": "537f4539",
   "metadata": {},
   "outputs": [],
   "source": []
  }
 ],
 "metadata": {
  "kernelspec": {
   "display_name": "Python 3 (ipykernel)",
   "language": "python",
   "name": "python3"
  },
  "language_info": {
   "codemirror_mode": {
    "name": "ipython",
    "version": 3
   },
   "file_extension": ".py",
   "mimetype": "text/x-python",
   "name": "python",
   "nbconvert_exporter": "python",
   "pygments_lexer": "ipython3",
   "version": "3.12.0"
  },
  "varInspector": {
   "cols": {
    "lenName": 16,
    "lenType": 16,
    "lenVar": 40
   },
   "kernels_config": {
    "python": {
     "delete_cmd_postfix": "",
     "delete_cmd_prefix": "del ",
     "library": "var_list.py",
     "varRefreshCmd": "print(var_dic_list())"
    },
    "r": {
     "delete_cmd_postfix": ") ",
     "delete_cmd_prefix": "rm(",
     "library": "var_list.r",
     "varRefreshCmd": "cat(var_dic_list()) "
    }
   },
   "types_to_exclude": [
    "module",
    "function",
    "builtin_function_or_method",
    "instance",
    "_Feature"
   ],
   "window_display": false
  }
 },
 "nbformat": 4,
 "nbformat_minor": 5
}
